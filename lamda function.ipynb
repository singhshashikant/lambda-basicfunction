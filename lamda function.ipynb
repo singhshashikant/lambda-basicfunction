{
 "cells": [
  {
   "cell_type": "code",
   "execution_count": 1,
   "id": "ac0f1c57-2ae6-4339-8b00-3ae635db0e94",
   "metadata": {},
   "outputs": [
    {
     "data": {
      "text/plain": [
       "9"
      ]
     },
     "execution_count": 1,
     "metadata": {},
     "output_type": "execute_result"
    }
   ],
   "source": [
    "n=3\n",
    "p=2\n",
    "def test(n,p):\n",
    "    return n**p\n",
    "test(3,2)"
   ]
  },
  {
   "cell_type": "code",
   "execution_count": 3,
   "id": "1d2c243a-2e66-438b-a5b3-b1b4e6948094",
   "metadata": {},
   "outputs": [
    {
     "data": {
      "text/plain": [
       "7"
      ]
     },
     "execution_count": 3,
     "metadata": {},
     "output_type": "execute_result"
    }
   ],
   "source": [
    "add= lambda x,y : x+y\n",
    "add(4,3)"
   ]
  },
  {
   "cell_type": "code",
   "execution_count": 13,
   "id": "c626c477-0c13-4c8c-846b-c91dd162fc5c",
   "metadata": {},
   "outputs": [
    {
     "data": {
      "text/plain": [
       "113.0"
      ]
     },
     "execution_count": 13,
     "metadata": {},
     "output_type": "execute_result"
    }
   ],
   "source": [
    "c_to_f =lambda c:(9/5)*c + 32\n",
    "c_to_f(45)\n"
   ]
  },
  {
   "cell_type": "code",
   "execution_count": 16,
   "id": "5d1094a8-b7ac-47f8-9479-63fec1d0dff2",
   "metadata": {},
   "outputs": [
    {
     "data": {
      "text/plain": [
       "43"
      ]
     },
     "execution_count": 16,
     "metadata": {},
     "output_type": "execute_result"
    }
   ],
   "source": [
    "finding_max = lambda x,y: x if x>y else y\n",
    "finding_max(43,21)"
   ]
  },
  {
   "cell_type": "code",
   "execution_count": null,
   "id": "422fa83b-7c1f-4e67-b6a7-59e069d65d75",
   "metadata": {},
   "outputs": [],
   "source": [
    "s=\"shashi\"\n",
    "find_len = lambda s : len(s)\n"
   ]
  }
 ],
 "metadata": {
  "kernelspec": {
   "display_name": "Python 3 (ipykernel)",
   "language": "python",
   "name": "python3"
  },
  "language_info": {
   "codemirror_mode": {
    "name": "ipython",
    "version": 3
   },
   "file_extension": ".py",
   "mimetype": "text/x-python",
   "name": "python",
   "nbconvert_exporter": "python",
   "pygments_lexer": "ipython3",
   "version": "3.10.8"
  }
 },
 "nbformat": 4,
 "nbformat_minor": 5
}
